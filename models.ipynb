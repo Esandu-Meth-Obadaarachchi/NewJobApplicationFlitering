{
  "nbformat": 4,
  "nbformat_minor": 0,
  "metadata": {
    "colab": {
      "provenance": []
    },
    "kernelspec": {
      "name": "python3",
      "display_name": "Python 3"
    },
    "language_info": {
      "name": "python"
    }
  },
  "cells": [
    {
      "cell_type": "code",
      "execution_count": 1,
      "metadata": {
        "id": "ZVgxHAMR_R6k",
        "colab": {
          "base_uri": "https://localhost:8080/"
        },
        "outputId": "354e8909-11ad-4843-e231-81ce9c3df46c"
      },
      "outputs": [
        {
          "output_type": "stream",
          "name": "stdout",
          "text": [
            "Mounted at /content/drive\n"
          ]
        }
      ],
      "source": [
        "from google.colab import drive\n",
        "import pandas as pd\n",
        "\n",
        "# Mount Google Drive\n",
        "drive.mount('/content/drive')\n",
        "\n",
        "# Path to your CSV file\n",
        "file_path = '/content/drive/My Drive/slt_cv/all_correct.csv'\n",
        "\n"
      ]
    },
    {
      "cell_type": "code",
      "source": [
        "# Load the dataset\n",
        "dataset = pd.read_csv(file_path)\n",
        "\n",
        "# Display the first few rows\n",
        "print(dataset.head())\n",
        "\n",
        "# Check class balance\n",
        "print(dataset['fail/pass'].value_counts(normalize=True) * 100)"
      ],
      "metadata": {
        "colab": {
          "base_uri": "https://localhost:8080/"
        },
        "id": "E1C6048lGyKH",
        "outputId": "41bdd3a4-c961-4c05-9f6e-702fccd5912d"
      },
      "execution_count": 2,
      "outputs": [
        {
          "output_type": "stream",
          "name": "stdout",
          "text": [
            "   OL_Passes  OL_Credits OL_Math OL_English OL_Sinhala_Tamil  AL_Passes  \\\n",
            "0          9           7       S          S                C          0   \n",
            "1          6           2       A          S                F          0   \n",
            "2          8           3       S          S                A          0   \n",
            "3          7           3       A          F                S          3   \n",
            "4          7           4       C          F                F          2   \n",
            "\n",
            "   fail/pass  \n",
            "0          0  \n",
            "1          0  \n",
            "2          0  \n",
            "3          0  \n",
            "4          0  \n",
            "fail/pass\n",
            "0    50.0\n",
            "1    50.0\n",
            "Name: proportion, dtype: float64\n"
          ]
        }
      ]
    },
    {
      "cell_type": "code",
      "source": [
        "from sklearn.ensemble import RandomForestClassifier\n",
        "from sklearn.model_selection import train_test_split\n",
        "from sklearn.metrics import classification_report\n",
        "\n",
        "# Encoding categorical grades\n",
        "grade_mapping = {'A': 4, 'B': 3, 'C': 2, 'S': 1, 'F': 0}\n",
        "dataset['OL_Math'] = dataset['OL_Math'].map(grade_mapping)\n",
        "dataset['OL_English'] = dataset['OL_English'].map(grade_mapping)\n",
        "dataset['OL_Sinhala_Tamil'] = dataset['OL_Sinhala_Tamil'].map(grade_mapping)\n",
        "\n",
        "# Splitting data\n",
        "X = dataset.drop(columns=['fail/pass'])\n",
        "y = dataset['fail/pass']"
      ],
      "metadata": {
        "id": "ngzEAYSKHqti"
      },
      "execution_count": 3,
      "outputs": []
    },
    {
      "cell_type": "code",
      "source": [
        "\n",
        "X_train, X_test, y_train, y_test = train_test_split(X, y, test_size=0.1, random_state=42)\n",
        "\n",
        "# Model training\n",
        "rf_model = RandomForestClassifier(random_state=42)\n",
        "rf_model.fit(X_train, y_train)\n",
        "\n",
        "# Predictions\n",
        "y_pred = rf_model.predict(X_test)\n",
        "\n",
        "# Evaluation\n",
        "print(classification_report(y_test, y_pred))"
      ],
      "metadata": {
        "colab": {
          "base_uri": "https://localhost:8080/"
        },
        "id": "H6JoF7LGHtLl",
        "outputId": "da17422c-d368-4353-93d2-9168e666da62"
      },
      "execution_count": 4,
      "outputs": [
        {
          "output_type": "stream",
          "name": "stdout",
          "text": [
            "              precision    recall  f1-score   support\n",
            "\n",
            "           0       1.00      1.00      1.00        51\n",
            "           1       1.00      1.00      1.00        47\n",
            "\n",
            "    accuracy                           1.00        98\n",
            "   macro avg       1.00      1.00      1.00        98\n",
            "weighted avg       1.00      1.00      1.00        98\n",
            "\n"
          ]
        }
      ]
    },
    {
      "cell_type": "code",
      "source": [
        "import pandas as pd\n",
        "import numpy as np\n",
        "\n",
        "# Sample manual test data\n",
        "test_data = pd.DataFrame({\n",
        "    \"OL_Passes\": [6, 5, 8, 7, 6],\n",
        "    \"OL_Credits\": [3, 2, 4, 3, 2],\n",
        "    \"OL_Math\": [\"A\", \"F\", \"B\", \"C\", \"S\"],\n",
        "    \"OL_English\": [\"B\", \"S\", \"A\", \"C\", \"F\"],\n",
        "    \"OL_Sinhala_Tamil\": [\"C\", \"S\", \"A\", \"B\", \"F\"],\n",
        "    \"AL_Passes\": [3, 2, 3, 1, 3],\n",
        "    \"fail/pass\": [1, 0, 1, 0, 0]  # Ground truth for testing\n",
        "})\n",
        "\n",
        "# Grade Mapping\n",
        "grade_mapping = {'A': 4, 'B': 3, 'C': 2, 'S': 1, 'F': 0}\n",
        "test_data['OL_Math'] = test_data['OL_Math'].map(grade_mapping)\n",
        "test_data['OL_English'] = test_data['OL_English'].map(grade_mapping)\n",
        "test_data['OL_Sinhala_Tamil'] = test_data['OL_Sinhala_Tamil'].map(grade_mapping)\n",
        "\n",
        "# Drop the ground truth column temporarily for predictions\n",
        "X_test = test_data.drop(columns=[\"fail/pass\"])\n",
        "\n",
        "# Display data\n",
        "print(X_test)"
      ],
      "metadata": {
        "colab": {
          "base_uri": "https://localhost:8080/"
        },
        "id": "W7zbID0pHtKA",
        "outputId": "2637639f-28f7-42bd-ec4b-4513742e0296"
      },
      "execution_count": 5,
      "outputs": [
        {
          "output_type": "stream",
          "name": "stdout",
          "text": [
            "   OL_Passes  OL_Credits  OL_Math  OL_English  OL_Sinhala_Tamil  AL_Passes\n",
            "0          6           3        4           3                 2          3\n",
            "1          5           2        0           1                 1          2\n",
            "2          8           4        3           4                 4          3\n",
            "3          7           3        2           2                 3          1\n",
            "4          6           2        1           0                 0          3\n"
          ]
        }
      ]
    },
    {
      "cell_type": "code",
      "source": [
        "# Make predictions\n",
        "predictions = rf_model.predict(X_test)\n",
        "\n",
        "# Add predictions to the test data\n",
        "test_data['predicted_fail/pass'] = predictions\n",
        "\n",
        "# Compare predictions with ground truth\n",
        "print(test_data)"
      ],
      "metadata": {
        "colab": {
          "base_uri": "https://localhost:8080/"
        },
        "id": "IfKYCQUyHtIN",
        "outputId": "208bad24-984a-492c-f59d-afbe0084e772"
      },
      "execution_count": 7,
      "outputs": [
        {
          "output_type": "stream",
          "name": "stdout",
          "text": [
            "   OL_Passes  OL_Credits  OL_Math  OL_English  OL_Sinhala_Tamil  AL_Passes  \\\n",
            "0          6           3        4           3                 2          3   \n",
            "1          5           2        0           1                 1          2   \n",
            "2          8           4        3           4                 4          3   \n",
            "3          7           3        2           2                 3          1   \n",
            "4          6           2        1           0                 0          3   \n",
            "\n",
            "   fail/pass  predicted_fail/pass  \n",
            "0          1                    0  \n",
            "1          0                    0  \n",
            "2          1                    1  \n",
            "3          0                    0  \n",
            "4          0                    0  \n"
          ]
        }
      ]
    },
    {
      "cell_type": "code",
      "source": [
        "import pandas as pd\n",
        "import numpy as np\n",
        "from sklearn.metrics import accuracy_score\n",
        "\n",
        "# Function to generate synthetic data for manual testing\n",
        "def generate_manual_testing_data(num_records=100):\n",
        "    data = []\n",
        "    for _ in range(num_records):\n",
        "        ol_passes = np.random.randint(4, 10)  # Between 4 to 9\n",
        "        ol_credits = np.random.randint(0, ol_passes + 1)\n",
        "        ol_math = np.random.choice([0, 1, 2, 3, 4])  # F (0) to A (4)\n",
        "        ol_english = np.random.choice([0, 1, 2, 3, 4])  # F (0) to A (4)\n",
        "        ol_sinhala_tamil = np.random.choice([0, 1, 2, 3, 4])  # F (0) to A (4)\n",
        "        al_passes = np.random.randint(0, 5)  # Between 0 to 4 passes\n",
        "        age = np.random.randint(18, 25)  # Random ages between 18 and 24\n",
        "\n",
        "        # Check pass/fail eligibility based on your criteria\n",
        "        is_eligible = (\n",
        "            ol_passes >= 6 and\n",
        "            ol_credits >= 3 and\n",
        "            ol_math >= 2 and  # C or better\n",
        "            ol_english >= 2 and  # C or better\n",
        "            ol_sinhala_tamil >= 2 and  # C or better\n",
        "            al_passes >= 3 and\n",
        "            age > 20\n",
        "        )\n",
        "\n",
        "        data.append([ol_passes, ol_credits, ol_math, ol_english, ol_sinhala_tamil, al_passes, 1 if is_eligible else 0])\n",
        "\n",
        "    columns = [\"OL_Passes\", \"OL_Credits\", \"OL_Math\", \"OL_English\", \"OL_Sinhala_Tamil\", \"AL_Passes\", \"fail/pass\"]\n",
        "    return pd.DataFrame(data, columns=columns)\n",
        "\n"
      ],
      "metadata": {
        "id": "t5wcX1CsHtHK"
      },
      "execution_count": 8,
      "outputs": []
    },
    {
      "cell_type": "code",
      "source": [
        "# Generate 100 records\n",
        "manual_test_data = generate_manual_testing_data(100)\n",
        "\n",
        "# Prepare X_test and y_test\n",
        "X_test = manual_test_data.drop(columns=[\"fail/pass\"])\n",
        "y_test = manual_test_data[\"fail/pass\"]"
      ],
      "metadata": {
        "id": "6ZkmlcqrHtFX"
      },
      "execution_count": 9,
      "outputs": []
    },
    {
      "cell_type": "code",
      "source": [
        "# Make predictions\n",
        "predictions = rf_model.predict(X_test)\n",
        "\n",
        "# Add predictions to the manual test data\n",
        "manual_test_data[\"predicted_fail/pass\"] = predictions\n",
        "\n",
        "# Calculate and display accuracy\n",
        "accuracy = accuracy_score(y_test, predictions)\n",
        "print(f\"Manual Testing Accuracy: {accuracy * 100:.2f}%\")\n",
        "\n",
        "# Display the manual test data for inspection\n",
        "print(manual_test_data.head())"
      ],
      "metadata": {
        "id": "wfgLWlDEKQ5T",
        "outputId": "dcc05f8f-02c4-4af7-dc62-22039cc34da1",
        "colab": {
          "base_uri": "https://localhost:8080/"
        }
      },
      "execution_count": 10,
      "outputs": [
        {
          "output_type": "stream",
          "name": "stdout",
          "text": [
            "Manual Testing Accuracy: 98.00%\n",
            "   OL_Passes  OL_Credits  OL_Math  OL_English  OL_Sinhala_Tamil  AL_Passes  \\\n",
            "0          4           2        2           1                 3          4   \n",
            "1          4           0        0           1                 3          1   \n",
            "2          7           7        1           0                 3          4   \n",
            "3          5           1        0           4                 4          4   \n",
            "4          4           2        3           3                 3          3   \n",
            "\n",
            "   fail/pass  predicted_fail/pass  \n",
            "0          0                    0  \n",
            "1          0                    0  \n",
            "2          0                    0  \n",
            "3          0                    0  \n",
            "4          0                    0  \n"
          ]
        }
      ]
    },
    {
      "cell_type": "code",
      "source": [],
      "metadata": {
        "id": "Oyl1JJevKQ4A"
      },
      "execution_count": null,
      "outputs": []
    },
    {
      "cell_type": "code",
      "source": [],
      "metadata": {
        "id": "SIuAMhegKQ17"
      },
      "execution_count": null,
      "outputs": []
    }
  ]
}