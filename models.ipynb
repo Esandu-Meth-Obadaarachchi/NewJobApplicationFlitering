{
  "nbformat": 4,
  "nbformat_minor": 0,
  "metadata": {
    "colab": {
      "provenance": []
    },
    "kernelspec": {
      "name": "python3",
      "display_name": "Python 3"
    },
    "language_info": {
      "name": "python"
    }
  },
  "cells": [
    {
      "cell_type": "markdown",
      "source": [
        "# ***Load file from google drive***"
      ],
      "metadata": {
        "id": "q5djxufuKhpw"
      }
    },
    {
      "cell_type": "code",
      "execution_count": 1,
      "metadata": {
        "id": "ZVgxHAMR_R6k",
        "colab": {
          "base_uri": "https://localhost:8080/"
        },
        "outputId": "04d4db6d-869e-4fd4-eb52-e934ab259ada"
      },
      "outputs": [
        {
          "output_type": "stream",
          "name": "stdout",
          "text": [
            "Mounted at /content/drive\n"
          ]
        }
      ],
      "source": [
        "from google.colab import drive\n",
        "import pandas as pd\n",
        "\n",
        "# Mount Google Drive\n",
        "drive.mount('/content/drive')\n",
        "\n",
        "# Path to your CSV file\n",
        "file_path = '/content/drive/My Drive/slt_cv/all_correct.csv'\n",
        "\n"
      ]
    },
    {
      "cell_type": "markdown",
      "source": [
        "# ***Put data from csv to Dataframe***"
      ],
      "metadata": {
        "id": "1wnO8aapKmmG"
      }
    },
    {
      "cell_type": "code",
      "source": [
        "# Load the dataset\n",
        "dataset = pd.read_csv(file_path)\n",
        "\n",
        "# Display the first few rows\n",
        "print(dataset.head())\n",
        "\n"
      ],
      "metadata": {
        "colab": {
          "base_uri": "https://localhost:8080/"
        },
        "id": "E1C6048lGyKH",
        "outputId": "ca72b309-a5d7-40bd-e8eb-c38d0ae26525"
      },
      "execution_count": 2,
      "outputs": [
        {
          "output_type": "stream",
          "name": "stdout",
          "text": [
            "   OL_Passes  OL_Credits OL_Math OL_English OL_Sinhala_Tamil  AL_Passes  \\\n",
            "0          9           7       S          S                C          0   \n",
            "1          6           2       A          S                F          0   \n",
            "2          8           3       S          S                A          0   \n",
            "3          7           3       A          F                S          3   \n",
            "4          7           4       C          F                F          2   \n",
            "\n",
            "   fail/pass  \n",
            "0          0  \n",
            "1          0  \n",
            "2          0  \n",
            "3          0  \n",
            "4          0  \n"
          ]
        }
      ]
    },
    {
      "cell_type": "markdown",
      "source": [
        "# ***Check class imbalance***"
      ],
      "metadata": {
        "id": "-QWnM67qKtrt"
      }
    },
    {
      "cell_type": "code",
      "source": [
        "# Check class balance\n",
        "print(dataset['fail/pass'].value_counts(normalize=True) * 100)"
      ],
      "metadata": {
        "id": "-A5wyrKUKs3X",
        "colab": {
          "base_uri": "https://localhost:8080/"
        },
        "outputId": "85e7432c-bd09-46e3-fbe2-0108a1681db5"
      },
      "execution_count": 3,
      "outputs": [
        {
          "output_type": "stream",
          "name": "stdout",
          "text": [
            "fail/pass\n",
            "0    50.0\n",
            "1    50.0\n",
            "Name: proportion, dtype: float64\n"
          ]
        }
      ]
    },
    {
      "cell_type": "code",
      "source": [
        "from sklearn.ensemble import RandomForestClassifier\n",
        "from sklearn.model_selection import train_test_split\n",
        "from sklearn.metrics import classification_report"
      ],
      "metadata": {
        "id": "RcLWW4WhKzGD"
      },
      "execution_count": 4,
      "outputs": []
    },
    {
      "cell_type": "markdown",
      "source": [
        "# ***Convert Grade letter to integers for the model to understand***"
      ],
      "metadata": {
        "id": "pRzZ4b6rK1Au"
      }
    },
    {
      "cell_type": "code",
      "source": [
        "# Encoding categorical grades\n",
        "grade_mapping = {'A': 4, 'B': 3, 'C': 2, 'S': 1, 'F': 0}\n",
        "dataset['OL_Math'] = dataset['OL_Math'].map(grade_mapping)\n",
        "dataset['OL_English'] = dataset['OL_English'].map(grade_mapping)\n",
        "dataset['OL_Sinhala_Tamil'] = dataset['OL_Sinhala_Tamil'].map(grade_mapping)\n"
      ],
      "metadata": {
        "id": "ngzEAYSKHqti"
      },
      "execution_count": 5,
      "outputs": []
    },
    {
      "cell_type": "markdown",
      "source": [
        "# ***prepare data to feed to the model***"
      ],
      "metadata": {
        "id": "kvivx_QtK9gt"
      }
    },
    {
      "cell_type": "code",
      "source": [
        "# Splitting data\n",
        "X = dataset.drop(columns=['fail/pass'])\n",
        "y = dataset['fail/pass']\n",
        "\n",
        "#train test split\n",
        "X_train, X_test, y_train, y_test = train_test_split(X, y, test_size=0.1, random_state=42)"
      ],
      "metadata": {
        "id": "qX8mNkNWK7nH"
      },
      "execution_count": 6,
      "outputs": []
    },
    {
      "cell_type": "markdown",
      "source": [
        "# ***Train model and get testing accuracy***"
      ],
      "metadata": {
        "id": "DUus63a4LJ7y"
      }
    },
    {
      "cell_type": "code",
      "source": [
        "# Model training\n",
        "rf_model = RandomForestClassifier(random_state=42)\n",
        "rf_model.fit(X_train, y_train)\n",
        "\n",
        "# Predictions\n",
        "y_pred = rf_model.predict(X_test)\n",
        "\n",
        "# Evaluation\n",
        "print(classification_report(y_test, y_pred))"
      ],
      "metadata": {
        "colab": {
          "base_uri": "https://localhost:8080/"
        },
        "id": "H6JoF7LGHtLl",
        "outputId": "0fb9ffce-61da-4ade-ee36-61d29428028b"
      },
      "execution_count": 7,
      "outputs": [
        {
          "output_type": "stream",
          "name": "stdout",
          "text": [
            "              precision    recall  f1-score   support\n",
            "\n",
            "           0       1.00      1.00      1.00        51\n",
            "           1       1.00      1.00      1.00        47\n",
            "\n",
            "    accuracy                           1.00        98\n",
            "   macro avg       1.00      1.00      1.00        98\n",
            "weighted avg       1.00      1.00      1.00        98\n",
            "\n"
          ]
        }
      ]
    },
    {
      "cell_type": "markdown",
      "source": [
        "# ***Manul testing for a few records***"
      ],
      "metadata": {
        "id": "aKDukBDwLPtD"
      }
    },
    {
      "cell_type": "code",
      "source": [
        "# Sample manual test data\n",
        "test_data = pd.DataFrame({\n",
        "    \"OL_Passes\": [6, 5, 8, 7, 6],\n",
        "    \"OL_Credits\": [3, 2, 4, 3, 2],\n",
        "    \"OL_Math\": [\"A\", \"F\", \"B\", \"C\", \"S\"],\n",
        "    \"OL_English\": [\"B\", \"S\", \"A\", \"C\", \"F\"],\n",
        "    \"OL_Sinhala_Tamil\": [\"C\", \"S\", \"A\", \"B\", \"F\"],\n",
        "    \"AL_Passes\": [3, 2, 3, 1, 3],\n",
        "    \"fail/pass\": [1, 0, 1, 0, 0]  # Ground truth for testing\n",
        "})\n",
        "\n",
        "# Grade Mapping\n",
        "grade_mapping = {'A': 4, 'B': 3, 'C': 2, 'S': 1, 'F': 0}\n",
        "test_data['OL_Math'] = test_data['OL_Math'].map(grade_mapping)\n",
        "test_data['OL_English'] = test_data['OL_English'].map(grade_mapping)\n",
        "test_data['OL_Sinhala_Tamil'] = test_data['OL_Sinhala_Tamil'].map(grade_mapping)\n",
        "\n",
        "# Drop the ground truth column temporarily for predictions\n",
        "X_test = test_data.drop(columns=[\"fail/pass\"])\n",
        "\n",
        "# Display data\n",
        "print(X_test)"
      ],
      "metadata": {
        "colab": {
          "base_uri": "https://localhost:8080/"
        },
        "id": "W7zbID0pHtKA",
        "outputId": "07bf75e4-5e07-401b-b030-021a6b86e8b3"
      },
      "execution_count": 8,
      "outputs": [
        {
          "output_type": "stream",
          "name": "stdout",
          "text": [
            "   OL_Passes  OL_Credits  OL_Math  OL_English  OL_Sinhala_Tamil  AL_Passes\n",
            "0          6           3        4           3                 2          3\n",
            "1          5           2        0           1                 1          2\n",
            "2          8           4        3           4                 4          3\n",
            "3          7           3        2           2                 3          1\n",
            "4          6           2        1           0                 0          3\n"
          ]
        }
      ]
    },
    {
      "cell_type": "markdown",
      "source": [
        "# ***result was 4/5 was correctn***"
      ],
      "metadata": {
        "id": "kgDDQ0d5LTpr"
      }
    },
    {
      "cell_type": "code",
      "source": [
        "# Make predictions\n",
        "predictions = rf_model.predict(X_test)\n",
        "\n",
        "# Add predictions to the test data\n",
        "test_data['predicted_fail/pass'] = predictions\n",
        "\n",
        "# Compare predictions with ground truth\n",
        "print(test_data)"
      ],
      "metadata": {
        "colab": {
          "base_uri": "https://localhost:8080/"
        },
        "id": "IfKYCQUyHtIN",
        "outputId": "31c1a2ae-27e1-4446-f406-55fd3aaa3e3f"
      },
      "execution_count": 9,
      "outputs": [
        {
          "output_type": "stream",
          "name": "stdout",
          "text": [
            "   OL_Passes  OL_Credits  OL_Math  OL_English  OL_Sinhala_Tamil  AL_Passes  \\\n",
            "0          6           3        4           3                 2          3   \n",
            "1          5           2        0           1                 1          2   \n",
            "2          8           4        3           4                 4          3   \n",
            "3          7           3        2           2                 3          1   \n",
            "4          6           2        1           0                 0          3   \n",
            "\n",
            "   fail/pass  predicted_fail/pass  \n",
            "0          1                    0  \n",
            "1          0                    0  \n",
            "2          1                    1  \n",
            "3          0                    0  \n",
            "4          0                    0  \n"
          ]
        }
      ]
    },
    {
      "cell_type": "markdown",
      "source": [
        "# ***Generate 100 records within our TTO Prmpt for testing with labels***"
      ],
      "metadata": {
        "id": "rPIog934LgYv"
      }
    },
    {
      "cell_type": "code",
      "source": [
        "import numpy as np\n",
        "from sklearn.metrics import accuracy_score"
      ],
      "metadata": {
        "id": "Bbkicc6EiRmM"
      },
      "execution_count": 17,
      "outputs": []
    },
    {
      "cell_type": "code",
      "source": [
        "\n",
        "# Function to generate synthetic data for manual testing\n",
        "def generate_manual_testing_data(num_records=100):\n",
        "    data = []\n",
        "    for _ in range(num_records):\n",
        "        ol_passes = np.random.randint(4, 10)  # Between 4 to 9\n",
        "        ol_credits = np.random.randint(0, ol_passes + 1)\n",
        "        ol_math = np.random.choice([0, 1, 2, 3, 4])  # F (0) to A (4)\n",
        "        ol_english = np.random.choice([0, 1, 2, 3, 4])  # F (0) to A (4)\n",
        "        ol_sinhala_tamil = np.random.choice([0, 1, 2, 3, 4])  # F (0) to A (4)\n",
        "        al_passes = np.random.randint(0, 5)  # Between 0 to 4 passes\n",
        "        age = np.random.randint(18, 25)  # Random ages between 18 and 24\n",
        "\n",
        "        # Check pass/fail eligibility based on your criteria\n",
        "        is_eligible = (\n",
        "            ol_passes >= 6 and\n",
        "            ol_credits >= 3 and\n",
        "            ol_math >= 2 and  # C or better\n",
        "            ol_english >= 2 and  # C or better\n",
        "            ol_sinhala_tamil >= 2 and  # C or better\n",
        "            al_passes >= 3 and\n",
        "            age > 20\n",
        "        )\n",
        "\n",
        "        data.append([ol_passes, ol_credits, ol_math, ol_english, ol_sinhala_tamil, al_passes, 1 if is_eligible else 0])\n",
        "\n",
        "    columns = [\"OL_Passes\", \"OL_Credits\", \"OL_Math\", \"OL_English\", \"OL_Sinhala_Tamil\", \"AL_Passes\", \"fail/pass\"]\n",
        "    return pd.DataFrame(data, columns=columns)\n",
        "\n"
      ],
      "metadata": {
        "id": "t5wcX1CsHtHK"
      },
      "execution_count": 10,
      "outputs": []
    },
    {
      "cell_type": "code",
      "source": [
        "# Generate 100 records\n",
        "manual_test_data = generate_manual_testing_data(100)\n",
        "\n",
        "# Prepare X_test and y_test\n",
        "X_test = manual_test_data.drop(columns=[\"fail/pass\"])\n",
        "y_test = manual_test_data[\"fail/pass\"]"
      ],
      "metadata": {
        "id": "6ZkmlcqrHtFX"
      },
      "execution_count": 13,
      "outputs": []
    },
    {
      "cell_type": "markdown",
      "source": [
        "# ***Train and get Accuracy***"
      ],
      "metadata": {
        "id": "q5ZF8o4LLtdP"
      }
    },
    {
      "cell_type": "code",
      "source": [
        "# Make predictions\n",
        "predictions = rf_model.predict(X_test)\n",
        "\n",
        "# Add predictions to the manual test data\n",
        "manual_test_data[\"predicted_fail/pass\"] = predictions\n",
        "\n",
        "# Calculate and display accuracy\n",
        "accuracy = accuracy_score(y_test, predictions)\n",
        "print(f\"Manual Testing Accuracy: {accuracy * 100:.2f}%\")\n",
        "\n",
        "# Display the manual test data for inspection\n",
        "print(manual_test_data.head())"
      ],
      "metadata": {
        "colab": {
          "base_uri": "https://localhost:8080/"
        },
        "id": "wfgLWlDEKQ5T",
        "outputId": "6baecf85-88a6-49e1-9519-279858fe797e"
      },
      "execution_count": 18,
      "outputs": [
        {
          "output_type": "stream",
          "name": "stdout",
          "text": [
            "Manual Testing Accuracy: 98.00%\n",
            "   OL_Passes  OL_Credits  OL_Math  OL_English  OL_Sinhala_Tamil  AL_Passes  \\\n",
            "0          5           1        3           0                 3          3   \n",
            "1          8           7        1           2                 2          1   \n",
            "2          4           4        0           4                 2          1   \n",
            "3          4           2        1           0                 4          0   \n",
            "4          9           0        2           4                 1          1   \n",
            "\n",
            "   fail/pass  predicted_fail/pass  \n",
            "0          0                    0  \n",
            "1          0                    0  \n",
            "2          0                    0  \n",
            "3          0                    0  \n",
            "4          0                    0  \n"
          ]
        }
      ]
    },
    {
      "cell_type": "markdown",
      "source": [
        "# ***TESTING THE ACTUAL ACCURACY***"
      ],
      "metadata": {
        "id": "CBCt_CDzqKsH"
      }
    },
    {
      "cell_type": "code",
      "source": [
        "import requests\n",
        "import pandas as pd\n",
        "\n",
        "# Define the URL\n",
        "url =\n",
        "\n",
        "# Fetch data from the server\n",
        "response = requests.get(url)\n",
        "if response.status_code == 200:\n",
        "    records = response.json()  # Assuming JSON response\n",
        "    print(\"Data fetched successfully!\")\n",
        "else:\n",
        "    print(\"Failed to fetch data:\", response.status_code)\n",
        "\n",
        "# Convert to DataFrame for easier manipulation\n",
        "df = pd.DataFrame(records)\n",
        "\n",
        "# Display the first few records to verify\n",
        "print(df.head())"
      ],
      "metadata": {
        "id": "Oyl1JJevKQ4A",
        "colab": {
          "base_uri": "https://localhost:8080/"
        },
        "outputId": "eb556b43-08d6-48fa-f9fb-f382fb917d32"
      },
      "execution_count": 15,
      "outputs": [
        {
          "output_type": "stream",
          "name": "stdout",
          "text": [
            "Data fetched successfully!\n",
            "                        _id  ApplicationID   ApplicationCode   IntakeCode  \\\n",
            "0  6724a28c1714fb5e223f0237              2  TTO/2024/10/0002  TTO/2024/10   \n",
            "1  6724a28c1714fb5e223f0238              3  TTO/2024/10/0003  TTO/2024/10   \n",
            "2  6724a28c1714fb5e223f0239             10  TTO/2024/10/0010  TTO/2024/10   \n",
            "3  6724a28c1714fb5e223f023a             11  TTO/2024/10/0011  TTO/2024/10   \n",
            "4  6724a28c1714fb5e223f023b             12  TTO/2024/10/0012  TTO/2024/10   \n",
            "\n",
            "  Salutation Initials Surname FullName   NIC                     DOB Overage  \\\n",
            "0       None     None    None     None  None   7/27/1994 12:00:00 AM    None   \n",
            "1       None     None    None     None  None  10/27/1998 12:00:00 AM    None   \n",
            "2       None     None    None     None  None   8/18/1994 12:00:00 AM    None   \n",
            "3       None     None    None     None  None   11/3/1999 12:00:00 AM    None   \n",
            "4       None     None    None     None  None   12/4/1995 12:00:00 AM    None   \n",
            "\n",
            "  AgeYears AgeMonths AgeDays            AppliedDate  \\\n",
            "0     None      None    None  10/3/2024 11:14:09 PM   \n",
            "1     None      None    None  10/3/2024 11:57:29 PM   \n",
            "2     None      None    None   10/4/2024 9:57:45 AM   \n",
            "3     None      None    None  10/4/2024 10:13:39 AM   \n",
            "4     None      None    None  10/4/2024 10:19:50 AM   \n",
            "\n",
            "                                         ol_sittings  \\\n",
            "0  [{'sitting_number': 1, 'results': {'Buddhism':...   \n",
            "1  [{'sitting_number': 1, 'results': {'Art': 'A',...   \n",
            "2  [{'sitting_number': 1, 'results': {'Buddhism':...   \n",
            "3  [{'sitting_number': 1, 'results': {'Business &...   \n",
            "4  [{'sitting_number': 1, 'results': {'Buddhism':...   \n",
            "\n",
            "                                         al_sittings  \n",
            "0  [{'sitting_number': 1, 'results': {'Chemistry'...  \n",
            "1  [{'sitting_number': 1, 'results': {'Chemistry'...  \n",
            "2  [{'sitting_number': 1, 'results': {'Chemistry'...  \n",
            "3  [{'sitting_number': 1, 'results': {'Combine Ma...  \n",
            "4  [{'sitting_number': 1, 'results': {'Chemistry'...  \n"
          ]
        }
      ]
    },
    {
      "cell_type": "code",
      "source": [
        "df.head()"
      ],
      "metadata": {
        "id": "SIuAMhegKQ17",
        "colab": {
          "base_uri": "https://localhost:8080/",
          "height": 400
        },
        "outputId": "fc9f7440-7f6d-4c7f-8e78-f01317526aa3"
      },
      "execution_count": 16,
      "outputs": [
        {
          "output_type": "execute_result",
          "data": {
            "text/plain": [
              "                        _id  ApplicationID   ApplicationCode   IntakeCode  \\\n",
              "0  6724a28c1714fb5e223f0237              2  TTO/2024/10/0002  TTO/2024/10   \n",
              "1  6724a28c1714fb5e223f0238              3  TTO/2024/10/0003  TTO/2024/10   \n",
              "2  6724a28c1714fb5e223f0239             10  TTO/2024/10/0010  TTO/2024/10   \n",
              "3  6724a28c1714fb5e223f023a             11  TTO/2024/10/0011  TTO/2024/10   \n",
              "4  6724a28c1714fb5e223f023b             12  TTO/2024/10/0012  TTO/2024/10   \n",
              "\n",
              "  Salutation Initials Surname FullName   NIC                     DOB Overage  \\\n",
              "0       None     None    None     None  None   7/27/1994 12:00:00 AM    None   \n",
              "1       None     None    None     None  None  10/27/1998 12:00:00 AM    None   \n",
              "2       None     None    None     None  None   8/18/1994 12:00:00 AM    None   \n",
              "3       None     None    None     None  None   11/3/1999 12:00:00 AM    None   \n",
              "4       None     None    None     None  None   12/4/1995 12:00:00 AM    None   \n",
              "\n",
              "  AgeYears AgeMonths AgeDays            AppliedDate  \\\n",
              "0     None      None    None  10/3/2024 11:14:09 PM   \n",
              "1     None      None    None  10/3/2024 11:57:29 PM   \n",
              "2     None      None    None   10/4/2024 9:57:45 AM   \n",
              "3     None      None    None  10/4/2024 10:13:39 AM   \n",
              "4     None      None    None  10/4/2024 10:19:50 AM   \n",
              "\n",
              "                                         ol_sittings  \\\n",
              "0  [{'sitting_number': 1, 'results': {'Buddhism':...   \n",
              "1  [{'sitting_number': 1, 'results': {'Art': 'A',...   \n",
              "2  [{'sitting_number': 1, 'results': {'Buddhism':...   \n",
              "3  [{'sitting_number': 1, 'results': {'Business &...   \n",
              "4  [{'sitting_number': 1, 'results': {'Buddhism':...   \n",
              "\n",
              "                                         al_sittings  \n",
              "0  [{'sitting_number': 1, 'results': {'Chemistry'...  \n",
              "1  [{'sitting_number': 1, 'results': {'Chemistry'...  \n",
              "2  [{'sitting_number': 1, 'results': {'Chemistry'...  \n",
              "3  [{'sitting_number': 1, 'results': {'Combine Ma...  \n",
              "4  [{'sitting_number': 1, 'results': {'Chemistry'...  "
            ],
            "text/html": [
              "\n",
              "  <div id=\"df-85e81575-6f3f-4c16-9321-cc02f568e9bd\" class=\"colab-df-container\">\n",
              "    <div>\n",
              "<style scoped>\n",
              "    .dataframe tbody tr th:only-of-type {\n",
              "        vertical-align: middle;\n",
              "    }\n",
              "\n",
              "    .dataframe tbody tr th {\n",
              "        vertical-align: top;\n",
              "    }\n",
              "\n",
              "    .dataframe thead th {\n",
              "        text-align: right;\n",
              "    }\n",
              "</style>\n",
              "<table border=\"1\" class=\"dataframe\">\n",
              "  <thead>\n",
              "    <tr style=\"text-align: right;\">\n",
              "      <th></th>\n",
              "      <th>_id</th>\n",
              "      <th>ApplicationID</th>\n",
              "      <th>ApplicationCode</th>\n",
              "      <th>IntakeCode</th>\n",
              "      <th>Salutation</th>\n",
              "      <th>Initials</th>\n",
              "      <th>Surname</th>\n",
              "      <th>FullName</th>\n",
              "      <th>NIC</th>\n",
              "      <th>DOB</th>\n",
              "      <th>Overage</th>\n",
              "      <th>AgeYears</th>\n",
              "      <th>AgeMonths</th>\n",
              "      <th>AgeDays</th>\n",
              "      <th>AppliedDate</th>\n",
              "      <th>ol_sittings</th>\n",
              "      <th>al_sittings</th>\n",
              "    </tr>\n",
              "  </thead>\n",
              "  <tbody>\n",
              "    <tr>\n",
              "      <th>0</th>\n",
              "      <td>6724a28c1714fb5e223f0237</td>\n",
              "      <td>2</td>\n",
              "      <td>TTO/2024/10/0002</td>\n",
              "      <td>TTO/2024/10</td>\n",
              "      <td>None</td>\n",
              "      <td>None</td>\n",
              "      <td>None</td>\n",
              "      <td>None</td>\n",
              "      <td>None</td>\n",
              "      <td>7/27/1994 12:00:00 AM</td>\n",
              "      <td>None</td>\n",
              "      <td>None</td>\n",
              "      <td>None</td>\n",
              "      <td>None</td>\n",
              "      <td>10/3/2024 11:14:09 PM</td>\n",
              "      <td>[{'sitting_number': 1, 'results': {'Buddhism':...</td>\n",
              "      <td>[{'sitting_number': 1, 'results': {'Chemistry'...</td>\n",
              "    </tr>\n",
              "    <tr>\n",
              "      <th>1</th>\n",
              "      <td>6724a28c1714fb5e223f0238</td>\n",
              "      <td>3</td>\n",
              "      <td>TTO/2024/10/0003</td>\n",
              "      <td>TTO/2024/10</td>\n",
              "      <td>None</td>\n",
              "      <td>None</td>\n",
              "      <td>None</td>\n",
              "      <td>None</td>\n",
              "      <td>None</td>\n",
              "      <td>10/27/1998 12:00:00 AM</td>\n",
              "      <td>None</td>\n",
              "      <td>None</td>\n",
              "      <td>None</td>\n",
              "      <td>None</td>\n",
              "      <td>10/3/2024 11:57:29 PM</td>\n",
              "      <td>[{'sitting_number': 1, 'results': {'Art': 'A',...</td>\n",
              "      <td>[{'sitting_number': 1, 'results': {'Chemistry'...</td>\n",
              "    </tr>\n",
              "    <tr>\n",
              "      <th>2</th>\n",
              "      <td>6724a28c1714fb5e223f0239</td>\n",
              "      <td>10</td>\n",
              "      <td>TTO/2024/10/0010</td>\n",
              "      <td>TTO/2024/10</td>\n",
              "      <td>None</td>\n",
              "      <td>None</td>\n",
              "      <td>None</td>\n",
              "      <td>None</td>\n",
              "      <td>None</td>\n",
              "      <td>8/18/1994 12:00:00 AM</td>\n",
              "      <td>None</td>\n",
              "      <td>None</td>\n",
              "      <td>None</td>\n",
              "      <td>None</td>\n",
              "      <td>10/4/2024 9:57:45 AM</td>\n",
              "      <td>[{'sitting_number': 1, 'results': {'Buddhism':...</td>\n",
              "      <td>[{'sitting_number': 1, 'results': {'Chemistry'...</td>\n",
              "    </tr>\n",
              "    <tr>\n",
              "      <th>3</th>\n",
              "      <td>6724a28c1714fb5e223f023a</td>\n",
              "      <td>11</td>\n",
              "      <td>TTO/2024/10/0011</td>\n",
              "      <td>TTO/2024/10</td>\n",
              "      <td>None</td>\n",
              "      <td>None</td>\n",
              "      <td>None</td>\n",
              "      <td>None</td>\n",
              "      <td>None</td>\n",
              "      <td>11/3/1999 12:00:00 AM</td>\n",
              "      <td>None</td>\n",
              "      <td>None</td>\n",
              "      <td>None</td>\n",
              "      <td>None</td>\n",
              "      <td>10/4/2024 10:13:39 AM</td>\n",
              "      <td>[{'sitting_number': 1, 'results': {'Business &amp;...</td>\n",
              "      <td>[{'sitting_number': 1, 'results': {'Combine Ma...</td>\n",
              "    </tr>\n",
              "    <tr>\n",
              "      <th>4</th>\n",
              "      <td>6724a28c1714fb5e223f023b</td>\n",
              "      <td>12</td>\n",
              "      <td>TTO/2024/10/0012</td>\n",
              "      <td>TTO/2024/10</td>\n",
              "      <td>None</td>\n",
              "      <td>None</td>\n",
              "      <td>None</td>\n",
              "      <td>None</td>\n",
              "      <td>None</td>\n",
              "      <td>12/4/1995 12:00:00 AM</td>\n",
              "      <td>None</td>\n",
              "      <td>None</td>\n",
              "      <td>None</td>\n",
              "      <td>None</td>\n",
              "      <td>10/4/2024 10:19:50 AM</td>\n",
              "      <td>[{'sitting_number': 1, 'results': {'Buddhism':...</td>\n",
              "      <td>[{'sitting_number': 1, 'results': {'Chemistry'...</td>\n",
              "    </tr>\n",
              "  </tbody>\n",
              "</table>\n",
              "</div>\n",
              "    <div class=\"colab-df-buttons\">\n",
              "\n",
              "  <div class=\"colab-df-container\">\n",
              "    <button class=\"colab-df-convert\" onclick=\"convertToInteractive('df-85e81575-6f3f-4c16-9321-cc02f568e9bd')\"\n",
              "            title=\"Convert this dataframe to an interactive table.\"\n",
              "            style=\"display:none;\">\n",
              "\n",
              "  <svg xmlns=\"http://www.w3.org/2000/svg\" height=\"24px\" viewBox=\"0 -960 960 960\">\n",
              "    <path d=\"M120-120v-720h720v720H120Zm60-500h600v-160H180v160Zm220 220h160v-160H400v160Zm0 220h160v-160H400v160ZM180-400h160v-160H180v160Zm440 0h160v-160H620v160ZM180-180h160v-160H180v160Zm440 0h160v-160H620v160Z\"/>\n",
              "  </svg>\n",
              "    </button>\n",
              "\n",
              "  <style>\n",
              "    .colab-df-container {\n",
              "      display:flex;\n",
              "      gap: 12px;\n",
              "    }\n",
              "\n",
              "    .colab-df-convert {\n",
              "      background-color: #E8F0FE;\n",
              "      border: none;\n",
              "      border-radius: 50%;\n",
              "      cursor: pointer;\n",
              "      display: none;\n",
              "      fill: #1967D2;\n",
              "      height: 32px;\n",
              "      padding: 0 0 0 0;\n",
              "      width: 32px;\n",
              "    }\n",
              "\n",
              "    .colab-df-convert:hover {\n",
              "      background-color: #E2EBFA;\n",
              "      box-shadow: 0px 1px 2px rgba(60, 64, 67, 0.3), 0px 1px 3px 1px rgba(60, 64, 67, 0.15);\n",
              "      fill: #174EA6;\n",
              "    }\n",
              "\n",
              "    .colab-df-buttons div {\n",
              "      margin-bottom: 4px;\n",
              "    }\n",
              "\n",
              "    [theme=dark] .colab-df-convert {\n",
              "      background-color: #3B4455;\n",
              "      fill: #D2E3FC;\n",
              "    }\n",
              "\n",
              "    [theme=dark] .colab-df-convert:hover {\n",
              "      background-color: #434B5C;\n",
              "      box-shadow: 0px 1px 3px 1px rgba(0, 0, 0, 0.15);\n",
              "      filter: drop-shadow(0px 1px 2px rgba(0, 0, 0, 0.3));\n",
              "      fill: #FFFFFF;\n",
              "    }\n",
              "  </style>\n",
              "\n",
              "    <script>\n",
              "      const buttonEl =\n",
              "        document.querySelector('#df-85e81575-6f3f-4c16-9321-cc02f568e9bd button.colab-df-convert');\n",
              "      buttonEl.style.display =\n",
              "        google.colab.kernel.accessAllowed ? 'block' : 'none';\n",
              "\n",
              "      async function convertToInteractive(key) {\n",
              "        const element = document.querySelector('#df-85e81575-6f3f-4c16-9321-cc02f568e9bd');\n",
              "        const dataTable =\n",
              "          await google.colab.kernel.invokeFunction('convertToInteractive',\n",
              "                                                    [key], {});\n",
              "        if (!dataTable) return;\n",
              "\n",
              "        const docLinkHtml = 'Like what you see? Visit the ' +\n",
              "          '<a target=\"_blank\" href=https://colab.research.google.com/notebooks/data_table.ipynb>data table notebook</a>'\n",
              "          + ' to learn more about interactive tables.';\n",
              "        element.innerHTML = '';\n",
              "        dataTable['output_type'] = 'display_data';\n",
              "        await google.colab.output.renderOutput(dataTable, element);\n",
              "        const docLink = document.createElement('div');\n",
              "        docLink.innerHTML = docLinkHtml;\n",
              "        element.appendChild(docLink);\n",
              "      }\n",
              "    </script>\n",
              "  </div>\n",
              "\n",
              "\n",
              "<div id=\"df-f39d46b4-1a92-4def-a2f3-934a7f4b95ee\">\n",
              "  <button class=\"colab-df-quickchart\" onclick=\"quickchart('df-f39d46b4-1a92-4def-a2f3-934a7f4b95ee')\"\n",
              "            title=\"Suggest charts\"\n",
              "            style=\"display:none;\">\n",
              "\n",
              "<svg xmlns=\"http://www.w3.org/2000/svg\" height=\"24px\"viewBox=\"0 0 24 24\"\n",
              "     width=\"24px\">\n",
              "    <g>\n",
              "        <path d=\"M19 3H5c-1.1 0-2 .9-2 2v14c0 1.1.9 2 2 2h14c1.1 0 2-.9 2-2V5c0-1.1-.9-2-2-2zM9 17H7v-7h2v7zm4 0h-2V7h2v10zm4 0h-2v-4h2v4z\"/>\n",
              "    </g>\n",
              "</svg>\n",
              "  </button>\n",
              "\n",
              "<style>\n",
              "  .colab-df-quickchart {\n",
              "      --bg-color: #E8F0FE;\n",
              "      --fill-color: #1967D2;\n",
              "      --hover-bg-color: #E2EBFA;\n",
              "      --hover-fill-color: #174EA6;\n",
              "      --disabled-fill-color: #AAA;\n",
              "      --disabled-bg-color: #DDD;\n",
              "  }\n",
              "\n",
              "  [theme=dark] .colab-df-quickchart {\n",
              "      --bg-color: #3B4455;\n",
              "      --fill-color: #D2E3FC;\n",
              "      --hover-bg-color: #434B5C;\n",
              "      --hover-fill-color: #FFFFFF;\n",
              "      --disabled-bg-color: #3B4455;\n",
              "      --disabled-fill-color: #666;\n",
              "  }\n",
              "\n",
              "  .colab-df-quickchart {\n",
              "    background-color: var(--bg-color);\n",
              "    border: none;\n",
              "    border-radius: 50%;\n",
              "    cursor: pointer;\n",
              "    display: none;\n",
              "    fill: var(--fill-color);\n",
              "    height: 32px;\n",
              "    padding: 0;\n",
              "    width: 32px;\n",
              "  }\n",
              "\n",
              "  .colab-df-quickchart:hover {\n",
              "    background-color: var(--hover-bg-color);\n",
              "    box-shadow: 0 1px 2px rgba(60, 64, 67, 0.3), 0 1px 3px 1px rgba(60, 64, 67, 0.15);\n",
              "    fill: var(--button-hover-fill-color);\n",
              "  }\n",
              "\n",
              "  .colab-df-quickchart-complete:disabled,\n",
              "  .colab-df-quickchart-complete:disabled:hover {\n",
              "    background-color: var(--disabled-bg-color);\n",
              "    fill: var(--disabled-fill-color);\n",
              "    box-shadow: none;\n",
              "  }\n",
              "\n",
              "  .colab-df-spinner {\n",
              "    border: 2px solid var(--fill-color);\n",
              "    border-color: transparent;\n",
              "    border-bottom-color: var(--fill-color);\n",
              "    animation:\n",
              "      spin 1s steps(1) infinite;\n",
              "  }\n",
              "\n",
              "  @keyframes spin {\n",
              "    0% {\n",
              "      border-color: transparent;\n",
              "      border-bottom-color: var(--fill-color);\n",
              "      border-left-color: var(--fill-color);\n",
              "    }\n",
              "    20% {\n",
              "      border-color: transparent;\n",
              "      border-left-color: var(--fill-color);\n",
              "      border-top-color: var(--fill-color);\n",
              "    }\n",
              "    30% {\n",
              "      border-color: transparent;\n",
              "      border-left-color: var(--fill-color);\n",
              "      border-top-color: var(--fill-color);\n",
              "      border-right-color: var(--fill-color);\n",
              "    }\n",
              "    40% {\n",
              "      border-color: transparent;\n",
              "      border-right-color: var(--fill-color);\n",
              "      border-top-color: var(--fill-color);\n",
              "    }\n",
              "    60% {\n",
              "      border-color: transparent;\n",
              "      border-right-color: var(--fill-color);\n",
              "    }\n",
              "    80% {\n",
              "      border-color: transparent;\n",
              "      border-right-color: var(--fill-color);\n",
              "      border-bottom-color: var(--fill-color);\n",
              "    }\n",
              "    90% {\n",
              "      border-color: transparent;\n",
              "      border-bottom-color: var(--fill-color);\n",
              "    }\n",
              "  }\n",
              "</style>\n",
              "\n",
              "  <script>\n",
              "    async function quickchart(key) {\n",
              "      const quickchartButtonEl =\n",
              "        document.querySelector('#' + key + ' button');\n",
              "      quickchartButtonEl.disabled = true;  // To prevent multiple clicks.\n",
              "      quickchartButtonEl.classList.add('colab-df-spinner');\n",
              "      try {\n",
              "        const charts = await google.colab.kernel.invokeFunction(\n",
              "            'suggestCharts', [key], {});\n",
              "      } catch (error) {\n",
              "        console.error('Error during call to suggestCharts:', error);\n",
              "      }\n",
              "      quickchartButtonEl.classList.remove('colab-df-spinner');\n",
              "      quickchartButtonEl.classList.add('colab-df-quickchart-complete');\n",
              "    }\n",
              "    (() => {\n",
              "      let quickchartButtonEl =\n",
              "        document.querySelector('#df-f39d46b4-1a92-4def-a2f3-934a7f4b95ee button');\n",
              "      quickchartButtonEl.style.display =\n",
              "        google.colab.kernel.accessAllowed ? 'block' : 'none';\n",
              "    })();\n",
              "  </script>\n",
              "</div>\n",
              "\n",
              "    </div>\n",
              "  </div>\n"
            ],
            "application/vnd.google.colaboratory.intrinsic+json": {
              "type": "dataframe",
              "variable_name": "df",
              "repr_error": "Out of range float values are not JSON compliant: nan"
            }
          },
          "metadata": {},
          "execution_count": 16
        }
      ]
    },
    {
      "cell_type": "markdown",
      "source": [
        "# ***Transforming the dataframe to our trained model's format***"
      ],
      "metadata": {
        "id": "ZVXu_4_RqRs1"
      }
    },
    {
      "cell_type": "code",
      "source": [
        "import pandas as pd\n",
        "\n",
        "# Helper function to count passes and credits\n",
        "def count_passes_and_credits(results):\n",
        "    grade_to_points = {\"A\": 4, \"B\": 3, \"C\": 2, \"S\": 1, \"F\": 0}\n",
        "    passes = sum(grade_to_points.get(grade, 0) > 0 for grade in results.values())\n",
        "    credits = sum(grade_to_points.get(grade, 0) >= 2 for grade in results.values())  # Credit = C or higher\n",
        "    return passes, credits\n",
        "\n",
        "# Function to extract the required data\n",
        "def transform_records(df):\n",
        "    records = []\n",
        "\n",
        "    for _, row in df.iterrows():\n",
        "        applicant_id = row[\"_id\"]\n",
        "        dob = row[\"DOB\"]\n",
        "        age = 2024 - int(dob.split(\"/\")[2].split(\" \")[0])  # Calculate approximate age\n",
        "\n",
        "        # Process O-Level sittings\n",
        "        for ol_sitting in row[\"ol_sittings\"]:\n",
        "            ol_results = ol_sitting[\"results\"]\n",
        "            ol_passes, ol_credits = count_passes_and_credits(ol_results)\n",
        "\n",
        "            ol_math = {\"A\": 4, \"B\": 3, \"C\": 2, \"S\": 1, \"F\": 0}.get(ol_results.get(\"Mathematics\", \"F\"), 0)\n",
        "            ol_english = {\"A\": 4, \"B\": 3, \"C\": 2, \"S\": 1, \"F\": 0}.get(ol_results.get(\"English\", \"F\"), 0)\n",
        "            ol_sinhala_tamil = {\"A\": 4, \"B\": 3, \"C\": 2, \"S\": 1, \"F\": 0}.get(ol_results.get(\"Sinhala/Tamil\", \"F\"), 0)\n",
        "\n",
        "            # Process A-Level sittings\n",
        "            for al_sitting in row[\"al_sittings\"]:\n",
        "                al_results = al_sitting[\"results\"]\n",
        "                al_passes, _ = count_passes_and_credits(al_results)\n",
        "\n",
        "                # Append transformed record\n",
        "                records.append({\n",
        "                    \"ApplicantID\": applicant_id,\n",
        "                    \"Age\": age,\n",
        "                    \"OL_Passes\": ol_passes,\n",
        "                    \"OL_Credits\": ol_credits,\n",
        "                    \"OL_Math\": ol_math,\n",
        "                    \"OL_English\": ol_english,\n",
        "                    \"OL_Sinhala_Tamil\": ol_sinhala_tamil,\n",
        "                    \"AL_Passes\": al_passes\n",
        "                })\n",
        "\n",
        "    return pd.DataFrame(records)\n",
        "\n",
        "# Transform the records\n",
        "transformed_data = transform_records(df)\n",
        "\n",
        "# Display the transformed records\n",
        "print(transformed_data.head())"
      ],
      "metadata": {
        "colab": {
          "base_uri": "https://localhost:8080/"
        },
        "id": "DmUFZuFkhOT_",
        "outputId": "89f1ac5c-4c80-46b0-fe23-a3411b17dd75"
      },
      "execution_count": 31,
      "outputs": [
        {
          "output_type": "stream",
          "name": "stdout",
          "text": [
            "                ApplicantID  Age  OL_Passes  OL_Credits  OL_Math  OL_English  \\\n",
            "0  6724a28c1714fb5e223f0237   30          9           9        4           4   \n",
            "1  6724a28c1714fb5e223f0238   26          9           9        4           2   \n",
            "2  6724a28c1714fb5e223f0239   30          9           9        4           3   \n",
            "3  6724a28c1714fb5e223f023a   25          9           8        4           1   \n",
            "4  6724a28c1714fb5e223f023a   25          1           1        0           2   \n",
            "\n",
            "   OL_Sinhala_Tamil  AL_Passes  \n",
            "0                 4          3  \n",
            "1                 4          4  \n",
            "2                 3          3  \n",
            "3                 3          4  \n",
            "4                 0          4  \n"
          ]
        }
      ]
    },
    {
      "cell_type": "markdown",
      "source": [
        "# ***Putting the labels for the real data***"
      ],
      "metadata": {
        "id": "5ZjxSWUhqjDg"
      }
    },
    {
      "cell_type": "code",
      "source": [
        "# Function to calculate eligibility\n",
        "def check_eligibility(row):\n",
        "    is_eligible = (\n",
        "        row[\"OL_Passes\"] >= 6 and\n",
        "        row[\"OL_Credits\"] >= 3 and\n",
        "        row[\"OL_Math\"] >= 2 and  # C or better\n",
        "        row[\"OL_English\"] >= 2 and  # C or better\n",
        "        row[\"OL_Sinhala_Tamil\"] >= 2 and  # C or better\n",
        "        row[\"AL_Passes\"] >= 3\n",
        "    )\n",
        "    return 1 if is_eligible else 0\n",
        "\n",
        "# Apply the eligibility check\n",
        "transformed_data[\"fail/pass\"] = transformed_data.apply(check_eligibility, axis=1)\n",
        "\n",
        "# Display the resulting DataFrame\n",
        "print(transformed_data)"
      ],
      "metadata": {
        "colab": {
          "base_uri": "https://localhost:8080/"
        },
        "id": "QvWqmD5OhORr",
        "outputId": "5350a506-ed81-4284-87d4-eb2d54252ded"
      },
      "execution_count": 32,
      "outputs": [
        {
          "output_type": "stream",
          "name": "stdout",
          "text": [
            "                   ApplicantID  Age  OL_Passes  OL_Credits  OL_Math  \\\n",
            "0     6724a28c1714fb5e223f0237   30          9           9        4   \n",
            "1     6724a28c1714fb5e223f0238   26          9           9        4   \n",
            "2     6724a28c1714fb5e223f0239   30          9           9        4   \n",
            "3     6724a28c1714fb5e223f023a   25          9           8        4   \n",
            "4     6724a28c1714fb5e223f023a   25          1           1        0   \n",
            "...                        ...  ...        ...         ...      ...   \n",
            "1021  6724a28c1714fb5e223f0566   27          1           1        0   \n",
            "1022  6724a28c1714fb5e223f0567   22          8           8        2   \n",
            "1023  6724a28c1714fb5e223f0568   30          9           9        4   \n",
            "1024  6724a28c1714fb5e223f0569   25          9           9        3   \n",
            "1025  6724a28c1714fb5e223f056a   27          9           9        4   \n",
            "\n",
            "      OL_English  OL_Sinhala_Tamil  AL_Passes  fail/pass  \n",
            "0              4                 4          3          1  \n",
            "1              2                 4          4          1  \n",
            "2              3                 3          3          1  \n",
            "3              1                 3          4          0  \n",
            "4              2                 0          4          0  \n",
            "...          ...               ...        ...        ...  \n",
            "1021           3                 0          3          0  \n",
            "1022           2                 2          4          1  \n",
            "1023           2                 2          4          1  \n",
            "1024           3                 3          4          1  \n",
            "1025           4                 4          3          1  \n",
            "\n",
            "[1026 rows x 9 columns]\n"
          ]
        }
      ]
    },
    {
      "cell_type": "markdown",
      "source": [
        "# ***Preparing data (droping unwanted columns)***"
      ],
      "metadata": {
        "id": "AX9vY4v6quwu"
      }
    },
    {
      "cell_type": "code",
      "source": [
        "# Prepare X_test and y_test\n",
        "\n",
        "# List of columns to drop\n",
        "columns_to_drop = [\"Age\", \"ApplicantID\", \"fail/pass\"]  # Add any other columns not used during training\n",
        "\n",
        "# Drop the columns\n",
        "X_test = transformed_data.drop(columns=columns_to_drop, errors='ignore')\n",
        "\n",
        "y_test = transformed_data[\"fail/pass\"]"
      ],
      "metadata": {
        "id": "5Un5TCCkhOP2"
      },
      "execution_count": 33,
      "outputs": []
    },
    {
      "cell_type": "markdown",
      "source": [
        "# ***Testing and getting accuracy***"
      ],
      "metadata": {
        "id": "E4ENSy0Uq6_h"
      }
    },
    {
      "cell_type": "code",
      "source": [
        "# Make predictions\n",
        "predictions = rf_model.predict(X_test)\n",
        "\n",
        "# Add predictions to the manual test data\n",
        "transformed_data[\"predicted_fail/pass\"] = predictions\n",
        "\n",
        "# Calculate and display accuracy\n",
        "accuracy = accuracy_score(y_test, predictions)\n",
        "print(f\"Manual Testing Accuracy: {accuracy * 100:.2f}%\")\n",
        "\n",
        "# Display the manual test data for inspection\n",
        "print(transformed_data.head())"
      ],
      "metadata": {
        "colab": {
          "base_uri": "https://localhost:8080/"
        },
        "id": "Cim81YW3hOOh",
        "outputId": "174ad7cd-3235-40d6-9583-f80c8041b58e"
      },
      "execution_count": 34,
      "outputs": [
        {
          "output_type": "stream",
          "name": "stdout",
          "text": [
            "Manual Testing Accuracy: 100.00%\n",
            "                ApplicantID  Age  OL_Passes  OL_Credits  OL_Math  OL_English  \\\n",
            "0  6724a28c1714fb5e223f0237   30          9           9        4           4   \n",
            "1  6724a28c1714fb5e223f0238   26          9           9        4           2   \n",
            "2  6724a28c1714fb5e223f0239   30          9           9        4           3   \n",
            "3  6724a28c1714fb5e223f023a   25          9           8        4           1   \n",
            "4  6724a28c1714fb5e223f023a   25          1           1        0           2   \n",
            "\n",
            "   OL_Sinhala_Tamil  AL_Passes  fail/pass  predicted_fail/pass  \n",
            "0                 4          3          1                    1  \n",
            "1                 4          4          1                    1  \n",
            "2                 3          3          1                    1  \n",
            "3                 3          4          0                    0  \n",
            "4                 0          4          0                    0  \n"
          ]
        }
      ]
    },
    {
      "cell_type": "code",
      "source": [],
      "metadata": {
        "id": "x9noAMBZhOMM"
      },
      "execution_count": 16,
      "outputs": []
    },
    {
      "cell_type": "code",
      "source": [],
      "metadata": {
        "id": "8Grf9weUhOI6"
      },
      "execution_count": 16,
      "outputs": []
    }
  ]
}