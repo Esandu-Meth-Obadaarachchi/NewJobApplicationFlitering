{
  "nbformat": 4,
  "nbformat_minor": 0,
  "metadata": {
    "colab": {
      "provenance": []
    },
    "kernelspec": {
      "name": "python3",
      "display_name": "Python 3"
    },
    "language_info": {
      "name": "python"
    }
  },
  "cells": [
    {
      "cell_type": "code",
      "execution_count": 1,
      "metadata": {
        "id": "ZVgxHAMR_R6k",
        "outputId": "354e8909-11ad-4843-e231-81ce9c3df46c",
        "colab": {
          "base_uri": "https://localhost:8080/"
        }
      },
      "outputs": [
        {
          "output_type": "stream",
          "name": "stdout",
          "text": [
            "Mounted at /content/drive\n"
          ]
        }
      ],
      "source": [
        "from google.colab import drive\n",
        "import pandas as pd\n",
        "\n",
        "# Mount Google Drive\n",
        "drive.mount('/content/drive')\n",
        "\n",
        "# Path to your CSV file\n",
        "file_path = '/content/drive/My Drive/slt_cv/all_correct.csv'\n",
        "\n"
      ]
    },
    {
      "cell_type": "code",
      "source": [
        "# Load the dataset\n",
        "dataset = pd.read_csv(file_path)\n",
        "\n",
        "# Display the first few rows\n",
        "print(dataset.head())\n",
        "\n",
        "# Check class balance\n",
        "print(dataset['fail/pass'].value_counts(normalize=True) * 100)"
      ],
      "metadata": {
        "id": "E1C6048lGyKH",
        "outputId": "41bdd3a4-c961-4c05-9f6e-702fccd5912d",
        "colab": {
          "base_uri": "https://localhost:8080/"
        }
      },
      "execution_count": 2,
      "outputs": [
        {
          "output_type": "stream",
          "name": "stdout",
          "text": [
            "   OL_Passes  OL_Credits OL_Math OL_English OL_Sinhala_Tamil  AL_Passes  \\\n",
            "0          9           7       S          S                C          0   \n",
            "1          6           2       A          S                F          0   \n",
            "2          8           3       S          S                A          0   \n",
            "3          7           3       A          F                S          3   \n",
            "4          7           4       C          F                F          2   \n",
            "\n",
            "   fail/pass  \n",
            "0          0  \n",
            "1          0  \n",
            "2          0  \n",
            "3          0  \n",
            "4          0  \n",
            "fail/pass\n",
            "0    50.0\n",
            "1    50.0\n",
            "Name: proportion, dtype: float64\n"
          ]
        }
      ]
    },
    {
      "cell_type": "code",
      "source": [
        "from sklearn.ensemble import RandomForestClassifier\n",
        "from sklearn.model_selection import train_test_split\n",
        "from sklearn.metrics import classification_report\n",
        "\n",
        "# Encoding categorical grades\n",
        "grade_mapping = {'A': 4, 'B': 3, 'C': 2, 'S': 1, 'F': 0}\n",
        "dataset['OL_Math'] = dataset['OL_Math'].map(grade_mapping)\n",
        "dataset['OL_English'] = dataset['OL_English'].map(grade_mapping)\n",
        "dataset['OL_Sinhala_Tamil'] = dataset['OL_Sinhala_Tamil'].map(grade_mapping)\n",
        "\n",
        "# Splitting data\n",
        "X = dataset.drop(columns=['fail/pass'])\n",
        "y = dataset['fail/pass']"
      ],
      "metadata": {
        "id": "ngzEAYSKHqti"
      },
      "execution_count": null,
      "outputs": []
    },
    {
      "cell_type": "code",
      "source": [
        "\n",
        "X_train, X_test, y_train, y_test = train_test_split(X, y, test_size=0.3, random_state=42)\n",
        "\n",
        "# Model training\n",
        "rf_model = RandomForestClassifier(random_state=42)\n",
        "rf_model.fit(X_train, y_train)\n",
        "\n",
        "# Predictions\n",
        "y_pred = rf_model.predict(X_test)\n",
        "\n",
        "# Evaluation\n",
        "print(classification_report(y_test, y_pred))"
      ],
      "metadata": {
        "id": "H6JoF7LGHtLl"
      },
      "execution_count": null,
      "outputs": []
    },
    {
      "cell_type": "code",
      "source": [],
      "metadata": {
        "id": "W7zbID0pHtKA"
      },
      "execution_count": null,
      "outputs": []
    },
    {
      "cell_type": "code",
      "source": [],
      "metadata": {
        "id": "IfKYCQUyHtIN"
      },
      "execution_count": null,
      "outputs": []
    },
    {
      "cell_type": "code",
      "source": [],
      "metadata": {
        "id": "t5wcX1CsHtHK"
      },
      "execution_count": null,
      "outputs": []
    },
    {
      "cell_type": "code",
      "source": [],
      "metadata": {
        "id": "6ZkmlcqrHtFX"
      },
      "execution_count": null,
      "outputs": []
    }
  ]
}